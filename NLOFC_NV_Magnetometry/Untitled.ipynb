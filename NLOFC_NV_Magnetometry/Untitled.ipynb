{
 "cells": [
  {
   "cell_type": "code",
   "execution_count": 27,
   "id": "electrical-rebound",
   "metadata": {},
   "outputs": [
    {
     "name": "stdout",
     "output_type": "stream",
     "text": [
      "10546\n"
     ]
    }
   ],
   "source": [
    "s1 = 'abc'\n",
    "s2 = 'pqr'\n",
    "\n",
    "pos = 1\n",
    "for i in range(len(s1)):\n",
    "    pos += (ord(s2[::-1][i]) - ord(s1[::-1][i]))* 26**i\n",
    "    \n",
    "print(pos)"
   ]
  },
  {
   "cell_type": "markdown",
   "id": "casual-artwork",
   "metadata": {},
   "source": [
    "# Filter Message"
   ]
  },
  {
   "cell_type": "code",
   "execution_count": 36,
   "id": "narrative-essence",
   "metadata": {},
   "outputs": [
    {
     "name": "stdout",
     "output_type": "stream",
     "text": [
      "10546\n"
     ]
    }
   ],
   "source": [
    "def filterMessages(a, b, virus):\n",
    "    msize =len(a)\n",
    "    vsize = len(virus)\n",
    "    dp = [0]*(msize+1)\n",
    "    mod = 1000000007\n",
    "    for i in range(1,msize+1):\n",
    "        #if(i == 1):\n",
    "             #dp[1] = ord(b[0]) - ord(a[0])+1\n",
    "        if(dp[i-1]>1):\n",
    "            #not including the letter a[i-1] and b[i-1]\n",
    "            dp[i] = (dp[i-1]-2)*26+ord(\"z\")-ord(a[i-1])+1+ord(b[i-1])-ord(\"a\")+1\n",
    "        if(dp[i-1] <= 1):\n",
    "            dp[i] = ord(b[i-1]) - ord(a[i-1])+1\n",
    "        #substract the message till i ending with virus pattern\n",
    "        if(i==vsize):\n",
    "            if(a[0:i]<=virus and virus<=b[0:i]):\n",
    "                dp[i] -=1\n",
    "        if(i>vsize):\n",
    "            if(a[i-vsize:i]<=virus and virus<=b[i-vsize:i]):\n",
    "                dp[i] -=dp[i-vsize] #number of message ending with virus\n",
    "            elif(a[i-vsize:i]<=virus and virus>b[i-vsize:i]):\n",
    "                dp[i] -=dp[i-vsize]-1\n",
    "            elif(a[i-vsize:i]>virus and virus<=b[i-vsize:i]):\n",
    "                dp[i] -=dp[i-vsize]-1\n",
    "            else:\n",
    "                dp[i] -=dp[i-vsize]-2#2 means two message start with a[0:i-vsie] and b[0:i-vsize]\n",
    "                \n",
    "    \n",
    "    return dp[msize] % mod\n",
    "\n",
    "if __name__==\"__main__\":\n",
    "    a = \"abc\"\n",
    "    b = \"pqr\"\n",
    "    virus = \"abb\"\n",
    "    print(filterMessages(a,b, virus))"
   ]
  },
  {
   "cell_type": "markdown",
   "id": "graphic-potato",
   "metadata": {},
   "source": [
    "# Throttling Gateway"
   ]
  },
  {
   "cell_type": "code",
   "execution_count": 45,
   "id": "identified-orientation",
   "metadata": {},
   "outputs": [
    {
     "name": "stdout",
     "output_type": "stream",
     "text": [
      "27\n"
     ]
    },
    {
     "ename": "IndexError",
     "evalue": "list index out of range",
     "output_type": "error",
     "traceback": [
      "\u001b[0;31m---------------------------------------------------------------------------\u001b[0m",
      "\u001b[0;31mIndexError\u001b[0m                                Traceback (most recent call last)",
      "\u001b[0;32m<ipython-input-45-0fadd07e1f38>\u001b[0m in \u001b[0;36m<module>\u001b[0;34m\u001b[0m\n\u001b[1;32m     12\u001b[0m     \u001b[0;32mreturn\u001b[0m \u001b[0mans\u001b[0m\u001b[0;34m\u001b[0m\u001b[0;34m\u001b[0m\u001b[0m\n\u001b[1;32m     13\u001b[0m \u001b[0;34m\u001b[0m\u001b[0m\n\u001b[0;32m---> 14\u001b[0;31m \u001b[0mn_gates\u001b[0m\u001b[0;34m(\u001b[0m\u001b[0;34m[\u001b[0m\u001b[0;36m1\u001b[0m\u001b[0;34m,\u001b[0m\u001b[0;36m1\u001b[0m\u001b[0;34m,\u001b[0m\u001b[0;36m1\u001b[0m\u001b[0;34m,\u001b[0m\u001b[0;36m1\u001b[0m\u001b[0;34m,\u001b[0m\u001b[0;36m2\u001b[0m\u001b[0;34m,\u001b[0m\u001b[0;36m2\u001b[0m\u001b[0;34m,\u001b[0m\u001b[0;36m2\u001b[0m\u001b[0;34m,\u001b[0m\u001b[0;36m3\u001b[0m\u001b[0;34m,\u001b[0m\u001b[0;36m3\u001b[0m\u001b[0;34m,\u001b[0m\u001b[0;36m3\u001b[0m\u001b[0;34m,\u001b[0m\u001b[0;36m4\u001b[0m\u001b[0;34m,\u001b[0m\u001b[0;36m4\u001b[0m\u001b[0;34m,\u001b[0m\u001b[0;36m4\u001b[0m\u001b[0;34m,\u001b[0m\u001b[0;36m5\u001b[0m\u001b[0;34m,\u001b[0m\u001b[0;36m5\u001b[0m\u001b[0;34m,\u001b[0m\u001b[0;36m5\u001b[0m\u001b[0;34m,\u001b[0m\u001b[0;36m6\u001b[0m\u001b[0;34m,\u001b[0m\u001b[0;36m6\u001b[0m\u001b[0;34m,\u001b[0m\u001b[0;36m6\u001b[0m\u001b[0;34m,\u001b[0m\u001b[0;36m7\u001b[0m\u001b[0;34m,\u001b[0m\u001b[0;36m7\u001b[0m\u001b[0;34m,\u001b[0m\u001b[0;36m7\u001b[0m\u001b[0;34m,\u001b[0m\u001b[0;36m7\u001b[0m\u001b[0;34m,\u001b[0m\u001b[0;36m11\u001b[0m\u001b[0;34m,\u001b[0m\u001b[0;36m11\u001b[0m\u001b[0;34m,\u001b[0m\u001b[0;36m11\u001b[0m\u001b[0;34m,\u001b[0m\u001b[0;36m11\u001b[0m\u001b[0;34m]\u001b[0m\u001b[0;34m)\u001b[0m\u001b[0;34m\u001b[0m\u001b[0;34m\u001b[0m\u001b[0m\n\u001b[0m",
      "\u001b[0;32m<ipython-input-45-0fadd07e1f38>\u001b[0m in \u001b[0;36mn_gates\u001b[0;34m(requestTime)\u001b[0m\n\u001b[1;32m      8\u001b[0m         \u001b[0;32melif\u001b[0m \u001b[0;34m(\u001b[0m\u001b[0mi\u001b[0m \u001b[0;34m>\u001b[0m \u001b[0;36m19\u001b[0m \u001b[0;34m&\u001b[0m \u001b[0;34m(\u001b[0m\u001b[0mrequestTime\u001b[0m\u001b[0;34m[\u001b[0m\u001b[0mi\u001b[0m\u001b[0;34m]\u001b[0m \u001b[0;34m-\u001b[0m \u001b[0mrequestTime\u001b[0m\u001b[0;34m[\u001b[0m\u001b[0mi\u001b[0m\u001b[0;34m-\u001b[0m\u001b[0;36m20\u001b[0m\u001b[0;34m]\u001b[0m\u001b[0;34m)\u001b[0m \u001b[0;34m<\u001b[0m\u001b[0;36m10\u001b[0m\u001b[0;34m)\u001b[0m\u001b[0;34m:\u001b[0m\u001b[0;34m\u001b[0m\u001b[0;34m\u001b[0m\u001b[0m\n\u001b[1;32m      9\u001b[0m             \u001b[0mans\u001b[0m \u001b[0;34m+=\u001b[0m \u001b[0;36m1\u001b[0m\u001b[0;34m\u001b[0m\u001b[0;34m\u001b[0m\u001b[0m\n\u001b[0;32m---> 10\u001b[0;31m         \u001b[0;32melif\u001b[0m \u001b[0;34m(\u001b[0m\u001b[0mi\u001b[0m \u001b[0;34m>\u001b[0m \u001b[0;36m59\u001b[0m \u001b[0;34m&\u001b[0m \u001b[0;34m(\u001b[0m\u001b[0mrequestTime\u001b[0m\u001b[0;34m[\u001b[0m\u001b[0mi\u001b[0m\u001b[0;34m]\u001b[0m \u001b[0;34m-\u001b[0m \u001b[0mrequestTime\u001b[0m\u001b[0;34m[\u001b[0m\u001b[0mi\u001b[0m\u001b[0;34m-\u001b[0m\u001b[0;36m60\u001b[0m\u001b[0;34m]\u001b[0m\u001b[0;34m)\u001b[0m \u001b[0;34m<\u001b[0m\u001b[0;36m60\u001b[0m\u001b[0;34m)\u001b[0m\u001b[0;34m:\u001b[0m\u001b[0;34m\u001b[0m\u001b[0;34m\u001b[0m\u001b[0m\n\u001b[0m\u001b[1;32m     11\u001b[0m             \u001b[0mans\u001b[0m \u001b[0;34m+=\u001b[0m \u001b[0;36m1\u001b[0m\u001b[0;34m\u001b[0m\u001b[0;34m\u001b[0m\u001b[0m\n\u001b[1;32m     12\u001b[0m     \u001b[0;32mreturn\u001b[0m \u001b[0mans\u001b[0m\u001b[0;34m\u001b[0m\u001b[0;34m\u001b[0m\u001b[0m\n",
      "\u001b[0;31mIndexError\u001b[0m: list index out of range"
     ]
    }
   ],
   "source": [
    "def n_gates(requestTime):\n",
    "    ans = 0\n",
    "    n = len(requestTime)\n",
    "    print(n)\n",
    "    for i in range(n):\n",
    "        if(i>2 & requestTime[i] == requestTime[i-3]):\n",
    "            ans += 1\n",
    "        elif (i > 19 & (requestTime[i] - requestTime[i-20]) <10):\n",
    "            ans += 1\n",
    "        elif (i > 59 & (requestTime[i] - requestTime[i-60]) <60):\n",
    "            ans += 1\n",
    "    return ans\n",
    "\n",
    "n_gates([1,1,1,1,2,2,2,3,3,3,4,4,4,5,5,5,6,6,6,7,7,7,7,11,11,11,11])"
   ]
  },
  {
   "cell_type": "code",
   "execution_count": 49,
   "id": "toxic-arctic",
   "metadata": {},
   "outputs": [
    {
     "data": {
      "text/plain": [
       "'ab'"
      ]
     },
     "execution_count": 49,
     "metadata": {},
     "output_type": "execute_result"
    }
   ],
   "source": [
    "'a' + 'b'"
   ]
  },
  {
   "cell_type": "code",
   "execution_count": null,
   "id": "veterinary-newport",
   "metadata": {},
   "outputs": [],
   "source": []
  }
 ],
 "metadata": {
  "kernelspec": {
   "display_name": "Python 3",
   "language": "python",
   "name": "python3"
  },
  "language_info": {
   "codemirror_mode": {
    "name": "ipython",
    "version": 3
   },
   "file_extension": ".py",
   "mimetype": "text/x-python",
   "name": "python",
   "nbconvert_exporter": "python",
   "pygments_lexer": "ipython3",
   "version": "3.7.5"
  }
 },
 "nbformat": 4,
 "nbformat_minor": 5
}
